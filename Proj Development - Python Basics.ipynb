{
 "cells": [
  {
   "cell_type": "markdown",
   "metadata": {},
   "source": [
    "#### Python Basics\n",
    "- Output Functions\n",
    "    - print()\n",
    "- Input Functions\n",
    "    - input()\n",
    "- Functional Programming"
   ]
  },
  {
   "cell_type": "code",
   "execution_count": 1,
   "metadata": {},
   "outputs": [
    {
     "name": "stdout",
     "output_type": "stream",
     "text": [
      "Hello Python\n"
     ]
    }
   ],
   "source": [
    "# Hello Python\n",
    "print('Hello Python')"
   ]
  },
  {
   "cell_type": "code",
   "execution_count": 2,
   "metadata": {},
   "outputs": [
    {
     "name": "stdout",
     "output_type": "stream",
     "text": [
      "Hello Python\n",
      "Programming\n"
     ]
    }
   ],
   "source": [
    "# Hello Python \n",
    "# Programming\n",
    "print('Hello Python')\n",
    "print('Programming')"
   ]
  },
  {
   "cell_type": "code",
   "execution_count": 5,
   "metadata": {},
   "outputs": [
    {
     "name": "stdout",
     "output_type": "stream",
     "text": [
      "Hello Python Programming\n"
     ]
    }
   ],
   "source": [
    "# Hello Python Programming\n",
    "print('Hello Python','Programming')"
   ]
  },
  {
   "cell_type": "code",
   "execution_count": 6,
   "metadata": {},
   "outputs": [
    {
     "name": "stdout",
     "output_type": "stream",
     "text": [
      "Hello Python Programming\n"
     ]
    }
   ],
   "source": [
    "print('Hello Python',end = ' ')\n",
    "print('Programming')"
   ]
  },
  {
   "cell_type": "markdown",
   "metadata": {},
   "source": [
    "#### Datatypes \n",
    "- int\n",
    "- float\n",
    "- string\n",
    "\n",
    "#### Conversion of Datatypes\n",
    "- int()\n",
    "- float()\n",
    "- str()"
   ]
  },
  {
   "cell_type": "code",
   "execution_count": 10,
   "metadata": {},
   "outputs": [
    {
     "name": "stdout",
     "output_type": "stream",
     "text": [
      "100000000000000 <class 'int'>\n"
     ]
    }
   ],
   "source": [
    "x = 100000000000000\n",
    "print(x,type(x))"
   ]
  },
  {
   "cell_type": "code",
   "execution_count": 13,
   "metadata": {},
   "outputs": [
    {
     "name": "stdout",
     "output_type": "stream",
     "text": [
      "12.54000015624 <class 'float'>\n"
     ]
    }
   ],
   "source": [
    "x1 = 12.54000015624\n",
    "print(x1,type(x1))"
   ]
  },
  {
   "cell_type": "code",
   "execution_count": 14,
   "metadata": {},
   "outputs": [
    {
     "name": "stdout",
     "output_type": "stream",
     "text": [
      "a <class 'str'>\n",
      "application <class 'str'>\n"
     ]
    }
   ],
   "source": [
    "s1 = 'a'\n",
    "s2 = 'application'\n",
    "print(s1,type(s1))\n",
    "print(s2,type(s2))"
   ]
  },
  {
   "cell_type": "code",
   "execution_count": 15,
   "metadata": {},
   "outputs": [
    {
     "name": "stdout",
     "output_type": "stream",
     "text": [
      "15.65 <class 'float'>\n",
      "15 <class 'int'>\n"
     ]
    }
   ],
   "source": [
    "x1 = 15.65\n",
    "x2 = int(x1)\n",
    "print(x1,type(x1))\n",
    "print(x2,type(x2))"
   ]
  },
  {
   "cell_type": "code",
   "execution_count": 19,
   "metadata": {},
   "outputs": [
    {
     "name": "stdout",
     "output_type": "stream",
     "text": [
      "1132 <class 'str'>\n",
      "1132 <class 'int'>\n",
      "1132.0 <class 'float'>\n"
     ]
    }
   ],
   "source": [
    "s1 = '1132'\n",
    "a1 = int(s1)\n",
    "a2 = float(a1)\n",
    "print(s1,type(s1))\n",
    "print(a1,type(a1))\n",
    "print(a2,type(a2))"
   ]
  },
  {
   "cell_type": "markdown",
   "metadata": {},
   "source": [
    "#### Input Function in Python\n",
    "- input() function will be used to read the input in the Python Programming\n",
    "- input() reads any value in terms of string format"
   ]
  },
  {
   "cell_type": "code",
   "execution_count": 21,
   "metadata": {},
   "outputs": [
    {
     "name": "stdout",
     "output_type": "stream",
     "text": [
      "Enter Your Name : Gitam\n",
      "Your Name is  Gitam\n",
      "<class 'str'>\n"
     ]
    }
   ],
   "source": [
    "name = input('Enter Your Name : ')\n",
    "print('Your Name is ',name)\n",
    "print(type(name))"
   ]
  },
  {
   "cell_type": "code",
   "execution_count": 23,
   "metadata": {},
   "outputs": [
    {
     "name": "stdout",
     "output_type": "stream",
     "text": [
      "Enter a number12\n",
      "12 <class 'int'>\n"
     ]
    }
   ],
   "source": [
    "n1 = int(input('Enter a number'))\n",
    "print(n1,type(n1))"
   ]
  },
  {
   "cell_type": "code",
   "execution_count": 24,
   "metadata": {},
   "outputs": [
    {
     "name": "stdout",
     "output_type": "stream",
     "text": [
      "Enter a Decimal value : 12\n",
      "12.0 <class 'float'>\n"
     ]
    }
   ],
   "source": [
    "n2 = float(input('Enter a Decimal value : '))\n",
    "print(n2,type(n2))"
   ]
  },
  {
   "cell_type": "markdown",
   "metadata": {},
   "source": [
    "#### Control flow statements\n",
    "- Conditional Statements\n",
    "    - if-else\n",
    "- Looping Statements\n",
    "    - while\n",
    "    - for\n",
    "    "
   ]
  },
  {
   "cell_type": "code",
   "execution_count": null,
   "metadata": {},
   "outputs": [],
   "source": [
    "# Read the input as Username and Password\n",
    "# If Username and Password both are 'Admin' then program should need to give\n",
    "# output as 'Valid User' otherwise 'Invalid User'\n",
    "username = input('Enter Username : ')\n",
    "password = input('Enter Password : ')\n",
    "if username == 'Admin' and password == 'Admin':\n",
    "    print('Valid User')\n",
    "else:\n",
    "    print('Invalid User')"
   ]
  },
  {
   "cell_type": "code",
   "execution_count": 25,
   "metadata": {},
   "outputs": [
    {
     "name": "stdout",
     "output_type": "stream",
     "text": [
      "Enter Username : Admin\n",
      "Enter Password : Admin\n",
      "Enter New Password : admin123\n",
      "Password is Updated Successfully\n"
     ]
    }
   ],
   "source": [
    "# Read the Input as Username and Password\n",
    "# IF the Username is 'Admin' and Update the Password to New Password\n",
    "username = input('Enter Username : ')\n",
    "password = input('Enter Password : ')\n",
    "if username == 'Admin' and password == 'Admin':\n",
    "    newpwd = input('Enter New Password : ')\n",
    "    password = newpwd # Assign newpwd to oldpwd variable\n",
    "    print('Password is Updated Successfully')\n",
    "else:\n",
    "    print('Username is Wrong')"
   ]
  },
  {
   "cell_type": "code",
   "execution_count": 26,
   "metadata": {},
   "outputs": [
    {
     "name": "stdout",
     "output_type": "stream",
     "text": [
      "admin123\n"
     ]
    }
   ],
   "source": [
    "print(password) # Test for Whether password is updated or not"
   ]
  },
  {
   "cell_type": "code",
   "execution_count": 33,
   "metadata": {},
   "outputs": [
    {
     "name": "stdout",
     "output_type": "stream",
     "text": [
      "Hello\n"
     ]
    }
   ],
   "source": [
    "# and or not False True\n",
    "if True or True:\n",
    "    print('Hello')\n",
    "else:\n",
    "    print('Gitam')"
   ]
  },
  {
   "cell_type": "code",
   "execution_count": null,
   "metadata": {},
   "outputs": [],
   "source": [
    "# Some basic examples on Loops\n",
    "while Condition:\n",
    "    Statements\n",
    "    Increment / Decrement"
   ]
  },
  {
   "cell_type": "code",
   "execution_count": 34,
   "metadata": {},
   "outputs": [
    {
     "name": "stdout",
     "output_type": "stream",
     "text": [
      "Enter a Number : 10\n",
      "1 2 3 4 5 6 7 8 9 10 "
     ]
    }
   ],
   "source": [
    "# Lets Read the value of N and Print the Numbers from 1 to N\n",
    "n = int(input('Enter a Number : '))\n",
    "i = 1\n",
    "while i <= n:\n",
    "    print(i,end= ' ')\n",
    "    i += 1 # i++ does not \n"
   ]
  },
  {
   "cell_type": "code",
   "execution_count": 35,
   "metadata": {},
   "outputs": [
    {
     "name": "stdout",
     "output_type": "stream",
     "text": [
      "10\n",
      "2 4 6 8 10 "
     ]
    }
   ],
   "source": [
    "# Read the input as N and Print the Even numbers between 1 to N\n",
    "n = int(input())\n",
    "i = 1\n",
    "while i <= n:\n",
    "    if i % 2 == 0 :\n",
    "        print(i,end = ' ')\n",
    "    i += 1"
   ]
  },
  {
   "cell_type": "code",
   "execution_count": 37,
   "metadata": {},
   "outputs": [
    {
     "name": "stdout",
     "output_type": "stream",
     "text": [
      "12\n",
      "1 2 3 4 6 12 "
     ]
    }
   ],
   "source": [
    "# Read the input as N and Print the Factors of N\n",
    "# 6 - 1 2 3 6\n",
    "n = int(input())\n",
    "i = 1\n",
    "while i <= n:\n",
    "    if n % i == 0:\n",
    "        print(i,end = ' ')\n",
    "    i += 1"
   ]
  },
  {
   "cell_type": "code",
   "execution_count": null,
   "metadata": {},
   "outputs": [],
   "source": [
    "#Let's Write the for Loop\n",
    "for LocalVar in range(Para1,Par2,Par3):\n",
    "    Statements"
   ]
  },
  {
   "cell_type": "code",
   "execution_count": 38,
   "metadata": {},
   "outputs": [
    {
     "name": "stdout",
     "output_type": "stream",
     "text": [
      "0 1 2 3 4 5 6 7 8 9 "
     ]
    }
   ],
   "source": [
    "for x in range(10):\n",
    "    print(x,end = ' ')"
   ]
  },
  {
   "cell_type": "code",
   "execution_count": 41,
   "metadata": {},
   "outputs": [
    {
     "name": "stdout",
     "output_type": "stream",
     "text": [
      "1 2 3 4 5 6 7 8 9 "
     ]
    }
   ],
   "source": [
    "for x in range(1,10):\n",
    "    print(x,end = ' ')"
   ]
  },
  {
   "cell_type": "code",
   "execution_count": 42,
   "metadata": {},
   "outputs": [
    {
     "name": "stdout",
     "output_type": "stream",
     "text": [
      "1 3 5 7 9 11 13 15 17 19 "
     ]
    }
   ],
   "source": [
    "for x in range(1,20,2):\n",
    "    print(x,end= ' ')"
   ]
  },
  {
   "cell_type": "code",
   "execution_count": 43,
   "metadata": {},
   "outputs": [
    {
     "name": "stdout",
     "output_type": "stream",
     "text": [
      "100 105 110 115 120 125 130 135 140 145 "
     ]
    }
   ],
   "source": [
    "for x in range(100,150,5):\n",
    "    print(x,end = ' ')"
   ]
  },
  {
   "cell_type": "code",
   "execution_count": 45,
   "metadata": {},
   "outputs": [
    {
     "name": "stdout",
     "output_type": "stream",
     "text": [
      "10 9 8 7 6 5 4 3 2 1 0 "
     ]
    }
   ],
   "source": [
    "for x in range(10,-1,-1):\n",
    "    print(x,end = ' ')"
   ]
  },
  {
   "cell_type": "markdown",
   "metadata": {},
   "source": [
    "#### Functional Programming"
   ]
  },
  {
   "cell_type": "code",
   "execution_count": null,
   "metadata": {},
   "outputs": [],
   "source": [
    "def <funName>(<Parameters>):\n",
    "    Set of Functional Statements\n",
    "    <return>"
   ]
  },
  {
   "cell_type": "code",
   "execution_count": 46,
   "metadata": {},
   "outputs": [
    {
     "name": "stdout",
     "output_type": "stream",
     "text": [
      "test() function \n"
     ]
    }
   ],
   "source": [
    "# Function Defination\n",
    "def test():\n",
    "    print('test() function ')\n",
    "    return\n",
    "test() # Calling of the Function"
   ]
  },
  {
   "cell_type": "code",
   "execution_count": null,
   "metadata": {},
   "outputs": [],
   "source": []
  },
  {
   "cell_type": "code",
   "execution_count": null,
   "metadata": {},
   "outputs": [],
   "source": []
  }
 ],
 "metadata": {
  "kernelspec": {
   "display_name": "Python 3",
   "language": "python",
   "name": "python3"
  },
  "language_info": {
   "codemirror_mode": {
    "name": "ipython",
    "version": 3
   },
   "file_extension": ".py",
   "mimetype": "text/x-python",
   "name": "python",
   "nbconvert_exporter": "python",
   "pygments_lexer": "ipython3",
   "version": "3.7.4"
  }
 },
 "nbformat": 4,
 "nbformat_minor": 2
}
